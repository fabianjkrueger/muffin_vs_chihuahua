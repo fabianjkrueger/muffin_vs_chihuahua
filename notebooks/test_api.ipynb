{
 "cells": [
  {
   "cell_type": "markdown",
   "metadata": {},
   "source": [
    "# Test the API\n",
    "\n",
    "## Host the API\n",
    "\n",
    "You first need to host the API.\n",
    "To do so, you can use the following commands:\n",
    "\n",
    "```bash\n",
    "# build the docker image if you haven't already\n",
    "docker build -t muffin_vs_chihuahua_api .\n",
    "\n",
    "# run the docker image\n",
    "docker run -p 8000:8000 muffin_vs_chihuahua_api\n",
    "```\n",
    "\n",
    "## Prepare the Environment"
   ]
  },
  {
   "cell_type": "code",
   "execution_count": 1,
   "metadata": {},
   "outputs": [],
   "source": [
    "# dependencies\n",
    "from pathlib import Path\n",
    "import requests\n",
    "from collections import namedtuple\n",
    "\n",
    "# data structures\n",
    "Muffin = namedtuple(\n",
    "    \"Muffin\",\n",
    "    [\"a\", \"b\", \"c\", \"d\"]\n",
    ")\n",
    "\n",
    "Chihuahua = namedtuple(\n",
    "    \"Chihuahua\",\n",
    "    [\"a\", \"b\", \"c\", \"d\"]\n",
    ")"
   ]
  },
  {
   "cell_type": "code",
   "execution_count": 2,
   "metadata": {},
   "outputs": [],
   "source": [
    "# endpoint of your API\n",
    "url = \"http://localhost:8000/predict\"\n",
    "\n",
    "# paths\n",
    "DATA_DIR = Path(\"../data/processed/test\")\n",
    "MUFFINS = DATA_DIR / \"muffin\"\n",
    "CHIHUAHUAS = DATA_DIR / \"chihuahua\"\n",
    "\n",
    "# example images\n",
    "muffin = Muffin(\n",
    "    MUFFINS / \"img_0_105.jpg\",\n",
    "    MUFFINS / \"img_1_60.jpg\",\n",
    "    MUFFINS / \"img_2_523.jpg\",\n",
    "    MUFFINS / \"img_4_1017.jpg\"\n",
    ")\n",
    "\n",
    "chihuahua = Chihuahua(\n",
    "    CHIHUAHUAS / \"img_0_18.jpg\",\n",
    "    CHIHUAHUAS / \"img_1_144.jpg\",\n",
    "    CHIHUAHUAS / \"img_1_428.jpg\",\n",
    "    CHIHUAHUAS / \"img_1_176.jpg\"\n",
    ")"
   ]
  },
  {
   "cell_type": "code",
   "execution_count": 3,
   "metadata": {},
   "outputs": [],
   "source": [
    "def predict(image_path):\n",
    "    \"\"\"Query the model with an image and display the prediction.\n",
    "    \n",
    "    Args:\n",
    "        image_path (str): Path to the image file\n",
    "        \n",
    "    Returns:\n",
    "        dict: Model response containing prediction and probability\n",
    "    \"\"\"\n",
    "    # display the image\n",
    "    from IPython.display import Image, display\n",
    "    display(Image(image_path))\n",
    "    \n",
    "    # query the model\n",
    "    with open(image_path, \"rb\") as f:\n",
    "        # include a tuple of (filename, file object, MIME type) \n",
    "        files = {\"file\": (str(image_path).split(\"/\")[-1], f, \"image/jpeg\")}\n",
    "        response = requests.post(url, files=files)\n",
    "    \n",
    "    # interpret response\n",
    "    if response.json()[\"class_name\"] == \"positive\":\n",
    "        print(\"This is a muffin!\")\n",
    "    elif response.json()[\"class_name\"] == \"negative\":\n",
    "        print(\"This is a chihuahua!\")\n",
    "\n",
    "    print(f\"Probability: {response.json()['probability']*100:.4f}%\")\n",
    "    \n",
    "    return response.json()"
   ]
  },
  {
   "cell_type": "markdown",
   "metadata": {},
   "source": [
    "Both `muffin` and `chihuahua` have 4 images: `a`, `b`, `c`, and `d`, so these\n",
    "are the valid examples you can use:\n",
    "\n",
    "```python\n",
    "muffin.a    chihuahua.a\n",
    "muffin.b    chihuahua.b\n",
    "muffin.c    chihuahua.c\n",
    "muffin.d    chihuahua.d\n",
    "```\n",
    "\n",
    "You can use all of them like this:"
   ]
  },
  {
   "cell_type": "code",
   "execution_count": 4,
   "metadata": {},
   "outputs": [
    {
     "data": {
      "image/jpeg": "[encoded data removed]",
      "text/plain": [
       "<IPython.core.display.Image object>"
      ]
     },
     "metadata": {},
     "output_type": "display_data"
    },
    {
     "name": "stdout",
     "output_type": "stream",
     "text": [
      "This is a muffin!\n",
      "Probability: 99.9997%\n"
     ]
    },
    {
     "data": {
      "image/jpeg": "[encoded data removed]",
      "text/plain": [
       "<IPython.core.display.Image object>"
      ]
     },
     "metadata": {},
     "output_type": "display_data"
    },
    {
     "name": "stdout",
     "output_type": "stream",
     "text": [
      "This is a chihuahua!\n",
      "Probability: 99.9914%\n"
     ]
    }
   ],
   "source": [
    "# get interpreted prediction using the predict function\n",
    "response_muffin = predict(muffin.b)\n",
    "response_chihuahua = predict(chihuahua.d)"
   ]
  },
  {
   "cell_type": "markdown",
   "metadata": {},
   "source": [
    "If you downloaded the data, you can also use all of them by adapting the path.\n",
    "\n",
    "This is how you can have a look at the raw JSON response:"
   ]
  },
  {
   "cell_type": "code",
   "execution_count": 5,
   "metadata": {},
   "outputs": [
    {
     "name": "stdout",
     "output_type": "stream",
     "text": [
      "class_name: positive\n",
      "probability: 0.9999966621398926\n",
      "all_probabilities: {'negative': 3.3225562674488174e-06, 'positive': 0.9999966621398926}\n",
      "\n",
      "\n",
      "class_name: negative\n",
      "probability: 0.9999140501022339\n",
      "all_probabilities: {'negative': 0.9999140501022339, 'positive': 8.600122964708135e-05}\n"
     ]
    }
   ],
   "source": [
    "# display JSON response\n",
    "for key, value in response_muffin.items():\n",
    "    print(f\"{key}: {value}\")\n",
    "\n",
    "print(\"\\n\")\n",
    "\n",
    "for key, value in response_chihuahua.items():\n",
    "    print(f\"{key}: {value}\")"
   ]
  },
  {
   "cell_type": "markdown",
   "metadata": {},
   "source": [
    "Class `positive` is the muffin, class `negative` is the chihuahua."
   ]
  }
 ],
 "metadata": {
  "kernelspec": {
   "display_name": "muffin_vs_chihuahua",
   "language": "python",
   "name": "python3"
  },
  "language_info": {
   "codemirror_mode": {
    "name": "ipython",
    "version": 3
   },
   "file_extension": ".py",
   "mimetype": "text/x-python",
   "name": "python",
   "nbconvert_exporter": "python",
   "pygments_lexer": "ipython3",
   "version": "3.11.11"
  }
 },
 "nbformat": 4,
 "nbformat_minor": 2
}
