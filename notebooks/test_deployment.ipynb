{
 "cells": [
  {
   "cell_type": "code",
   "execution_count": 6,
   "metadata": {},
   "outputs": [
    {
     "name": "stdout",
     "output_type": "stream",
     "text": [
      "Status code: 200\n",
      "Response: {\"class_name\":\"negative\",\"probability\":0.9999992847442627,\"all_probabilities\":{\"negative\":0.9999992847442627,\"positive\":7.133420467653195e-07}}\n"
     ]
    }
   ],
   "source": [
    "import requests\n",
    "\n",
    "# endpoint of your API\n",
    "url = \"http://localhost:8000/predict\"\n",
    "\n",
    "# load an image file\n",
    "image_path = \"../data/processed/test/chihuahua/img_1_144.jpg\"\n",
    "\n",
    "with open(image_path, \"rb\") as f:\n",
    "    # include a tuple of (filename, file object, MIME type)\n",
    "    files = {\"file\": (\"img_1_144.jpg\", f, \"image/jpeg\")}\n",
    "    response = requests.post(url, files=files)\n",
    "\n",
    "print(\"Status code:\", response.status_code)\n",
    "print(\"Response:\", response.text)"
   ]
  }
 ],
 "metadata": {
  "kernelspec": {
   "display_name": "muffin_vs_chihuahua",
   "language": "python",
   "name": "python3"
  },
  "language_info": {
   "codemirror_mode": {
    "name": "ipython",
    "version": 3
   },
   "file_extension": ".py",
   "mimetype": "text/x-python",
   "name": "python",
   "nbconvert_exporter": "python",
   "pygments_lexer": "ipython3",
   "version": "3.11.11"
  }
 },
 "nbformat": 4,
 "nbformat_minor": 2
}
